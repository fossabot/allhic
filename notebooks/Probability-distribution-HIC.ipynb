{
 "cells": [
  {
   "cell_type": "markdown",
   "metadata": {},
   "source": [
    "# Probability distributions in HIC experiments"
   ]
  },
  {
   "cell_type": "markdown",
   "metadata": {},
   "source": [
    "We study the relationship between two contigs in a HIC experiments - contig 1 and contig 2, with size $S_1$ and $S_2$, respectively. Our goal is to find out the probability distribution for the number of links between these two contigs, given their distance $D$. We can then compare against the observed number of links to try to infer if the two contigs are linked or not.\n",
    "\n",
    "This distribution is used in the `partition` procedure in [ALLHIC](https://github.com/tanghaibao/allhic). If the two contigs are considered close enough, i.e. $Prob(D < threshold) > 0.5$, then we infer the two contigs to be linked. This link graph is then partitioned and distinct partition are then solved independently.\n",
    "\n",
    "We use the following notations:\n",
    "- $S_1$, $S_2$: size of contigs 1 and 2.\n",
    "- $x_1$, $x_2$: start coordinates of contigs 1 and 2. Without loss of generality, we let $x_1 = 0$ and $x_2 > S_1$.\n",
    "- $D$: inner distance between contigs 1 and 2. We require $D > 0$. By definition, we have $x_1 + S_1 + D = x_2$.\n",
    "\n",
    "We build our models based on continuous distributions due to the large size of genomic positions. For each paired reads, we first sample the starting position $x$ uniformly on contig 1, that follows a uniform distribution:\n",
    "\n",
    "$$f(x) = \\begin{cases}\n",
    "            \\frac{1}{S_1}, & 0 \\leq x \\leq S_1 \\\\\n",
    "            0, & \\text{otherwise}\n",
    "         \\end{cases}\n",
    "$$\n",
    "\n",
    "We then consider the length $y$ of this link, that follows a [Pareto distribution](https://en.wikipedia.org/wiki/Pareto_distribution):\n",
    "\n",
    "$$g(y) = \\begin{cases}\n",
    "            \\frac{{\\alpha} y_m^{\\alpha}}{y^{\\alpha + 1}}, & y \\geq y_m \\\\\n",
    "            0, & y < y_m\n",
    "         \\end{cases}\n",
    "$$\n",
    "\n",
    "Where $y_m$ is the smallest link length in the dataset. As a side note, we can use the set of intra-contig links to infer the MLE $\\hat{\\alpha}$, using the formula below.\n",
    "\n",
    "$$\\hat{\\alpha} = \\frac{n}{\\sum_{i=1}^{n} \\ln{y_i} - \\ln{y_m}}\n",
    "$$\n",
    "\n",
    "Now let's come back to the problem of trying to infer the ending position $z$ of the read pair, which is the sum of two random variable $Z = X + Y$. Then $z$ is a convolution of two probability distribution - uniform and Pareto.\n",
    "\n",
    "$$h(z) = \\int_{0}^{S_1} f(x) \\cdot g(z - x) dx\n",
    "$$\n",
    "\n",
    "In order to make $g(z - x)$ nonzero, we need $z - x \\geq y_m$, borrowing idea from [here](https://math.stackexchange.com/questions/357672/density-of-sum-of-two-uniform-random-variables-0-1). Therefore, we have $x \\leq z - y_m$, also $0 \\leq x \\leq S_1$. By comparing $z - y_m$ and $S_1$, we then break this down into two cases:\n",
    "\n",
    "$$h(z) = \\begin{cases}\n",
    "            \\frac{{\\alpha} y_m^{\\alpha}}{S_1} \\int_{0}^{z - y_m} \\frac{1}{(z - x)^{\\alpha + 1}} dx, & y_m \\leq z \\leq S_1 + y_m \\\\\n",
    "            \\frac{{\\alpha} y_m^{\\alpha}}{S_1} \\int_{0}^{S_1} \\frac{1}{(z - x)^{\\alpha + 1}} dx, & z > S_1 + y_m \\\\\n",
    "            0, & \\text{otherwise}\n",
    "         \\end{cases}\n",
    "$$\n",
    "\n",
    "Taking the integral and simply the formula to closed form:\n",
    "\n",
    "$$h(z) = \\begin{cases}\n",
    "            \\frac{1}{S_1} \\cdot [1 - (\\frac{y_m}{z})^{\\alpha}], & y_m \\leq z \\leq S_1 + y_m \\\\\n",
    "            \\frac{1}{S_1} \\cdot [(\\frac{y_m}{z - S_1})^{\\alpha} - (\\frac{y_m}{z})^{\\alpha}], & z > S_1 + y_m \\\\\n",
    "            0, & \\text{otherwise}\n",
    "         \\end{cases}\n",
    "$$\n",
    "\n",
    "\n",
    "Let's take a look at the shape of this distribution."
   ]
  },
  {
   "cell_type": "code",
   "execution_count": 1,
   "metadata": {
    "collapsed": false
   },
   "outputs": [
    {
     "data": {
      "text/plain": [
       "<matplotlib.text.Text at 0x1105a9b50>"
      ]
     },
     "execution_count": 1,
     "metadata": {},
     "output_type": "execute_result"
    },
    {
     "data": {
      "image/png": "[encoded data removed]",
      "text/plain": [
       "<matplotlib.figure.Figure at 0x10445fdd0>"
      ]
     },
     "metadata": {},
     "output_type": "display_data"
    }
   ],
   "source": [
    "%matplotlib inline\n",
    "import seaborn as sns\n",
    "import numpy as np\n",
    "import matplotlib.pyplot as plt\n",
    "\n",
    "ym = 150.\n",
    "S1 = 100000.\n",
    "alpha = .001\n",
    "\n",
    "def h(z):\n",
    "    if ym <= z <= S1 + ym:\n",
    "        return 1 / S1 * (1 - (ym / z) ** alpha)\n",
    "    if z > S1 + ym:\n",
    "        return 1 / S1 * ((ym / (z - S1)) ** alpha - (ym / z) ** alpha)\n",
    "    \n",
    "x = np.arange(ym + 1, 500000)\n",
    "y = np.array([h(z) for z in x])\n",
    "plt.plot(x, y)\n",
    "ax = plt.gca()\n",
    "ax.set_xlabel(\"Ending position ($z$)\")\n",
    "ax.set_ylabel(\"Probability density\")"
   ]
  },
  {
   "cell_type": "markdown",
   "metadata": {},
   "source": [
    "## Likelihood function\n",
    "We are mostly interested in the second case, when the ending position occurs after contig i.e. $z > S_1$, beyond the extent of contig 1, so that it becomes a inter-contig link, rather than intra-contig link. The integral when $z > S_1$ is the following:\n",
    "\n",
    "$$Prob(z > S_1) = 1 - \\frac{{\\alpha} y_m^{\\alpha}}{S_1} \\int_{0}^{S_1 - y_m} \\frac{1}{(z - x)^{\\alpha + 1}} dx \\\\\n",
    "                = 1 - \\frac{y_m^{\\alpha}}{S_1} \\cdot (z - x)^{-\\alpha} \\Big|_{0}^{S_1 - y_m} \\\\\n",
    "                = 1 - \\frac{y_m^{\\alpha}}{S_1} \\cdot [(z - S_1 + y_m)^{-\\alpha} - z^{-\\alpha}]\n",
    "$$"
   ]
  }
 ],
 "metadata": {
  "anaconda-cloud": {},
  "kernelspec": {
   "display_name": "Python [conda root]",
   "language": "python",
   "name": "conda-root-py"
  },
  "language_info": {
   "codemirror_mode": {
    "name": "ipython",
    "version": 2
   },
   "file_extension": ".py",
   "mimetype": "text/x-python",
   "name": "python",
   "nbconvert_exporter": "python",
   "pygments_lexer": "ipython2",
   "version": "2.7.12"
  }
 },
 "nbformat": 4,
 "nbformat_minor": 1
}
